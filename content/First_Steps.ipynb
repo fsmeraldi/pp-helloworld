{
 "cells": [
  {
   "cell_type": "markdown",
   "metadata": {},
   "source": [
    "# Hello World! (Your first Python program)"
   ]
  },
  {
   "cell_type": "markdown",
   "metadata": {},
   "source": [
    "* Your first program looks like this (in fact, this is a programmers' [meme](https://en.wikipedia.org/wiki/%22Hello,_World!%22_program)):\n",
    "```print (\"Hello World!\")```\n",
    "* Normally you would have to:\n",
    "    * type it in an editor (eg notepad, idle, gedit) on your machine;\n",
    "    * save it to a file called, say, ```hello.py```\n",
    "    * run it with the Python interpreter: ```python hello.py```\n",
    "* Using these web pages, you can run the code in your browser even if you don't have Python on your machine, or you are just viewing this with a tablet or your phone.\n",
    "* Just **click on the code cell below** and:\n",
    "  * hit \"Shift-Enter\", or\n",
    "  * use the \"Play\" button in the toolbar above, or\n",
    "  * open the \"Run\" menu, and click on \"Run selected cell\""
   ]
  },
  {
   "cell_type": "code",
   "execution_count": null,
   "metadata": {},
   "outputs": [],
   "source": [
    "print(\"Hello World!\")"
   ]
  },
  {
   "cell_type": "markdown",
   "metadata": {},
   "source": [
    "Run the cell below and click on the video to learn how you can modify this code to print your own name!"
   ]
  },
  {
   "cell_type": "code",
   "execution_count": 2,
   "metadata": {},
   "outputs": [
    {
     "data": {
      "application/vnd.jupyter.widget-view+json": {
       "model_id": "7a1c1d9f10d64d3e9db47645114eb8e5",
       "version_major": 2,
       "version_minor": 0
      },
      "text/plain": [
       "interactive(children=(IntSlider(value=600, continuous_update=False, description='resize', max=1100, min=300, r…"
      ]
     },
     "execution_count": 2,
     "metadata": {},
     "output_type": "execute_result"
    }
   ],
   "source": [
    "# run this cell to show a video, use slider to resize it\n",
    "try: from IPython.display import YouTubeVideo; from ipywidgets import interactive, IntSlider\n",
    "except ModuleNotFoundError: import micropip; await micropip.install(\"ipywidgets\"); from ipywidgets import interactive, IntSlider\n",
    "def _play(resize): display(YouTubeVideo('AQj3VxvcBh8',width=resize, height=515*resize//1100, rel=0, loop=1))\n",
    "interactive(_play, resize=IntSlider(min=300, max=1100, step=50, value=600, continuous_update=False, readout=False))"
   ]
  },
  {
   "cell_type": "markdown",
   "metadata": {},
   "source": [
    "# So many languages... is Python a good choice?\n",
    "\n",
    "Here is a quote that expresses how I (and many others) feel about Python:\n",
    "\n",
    "\"I believe that Python is important for software development. While there are more powerful languages (e.g. Lisp), faster languages (e.g. C), more used languages (e.g. Java), and weirder languages (e.g. Haskell), Python gets a lot of different things right, and right in a combination that no other language I know of has done so far\" (Fredrik Blaag).\n",
    "\n",
    "Python has evolved from a \"scripting language\" (more on this below) to a language in which you can write entire applications. Among other advantages, we have that:\n",
    "\n",
    "* Python makes writing good code easy;\n",
    "* Python syntax is clean and easy to read;\n",
    "* It allows you to start simple - what you don't know (mostly) won't harm;\n",
    "* In spite of that, it supports very advanced programming techniques and styles;\n",
    "* It offers excellent interactive tools (like these notebooks) that make learning easy;\n",
    "* There are plenty of online resources to support you;\n",
    "* It is a real-world, general purpose programming language.\n",
    "\n",
    "It is worth emphasizing this last point: there are plenty of Python programming jobs out there that range from web development to full-stack engineering (a [chimeric professional figure](https://stackoverflow.blog/2019/10/17/imho-the-mythical-fullstack-engineer/)  much loved by recruiters) to much more trendy and esoteric stuff. Namely, Python has become a de-facto standard for, among others, \n",
    "* Data science and visualisation, thanks to libraries such as [pandas](https://pandas.pydata.org/) and [seaborn](https://seaborn.pydata.org/)\n",
    "* Machine Learning, thanks to [keras](https://keras.io/), [tensorflow](https://www.tensorflow.org/), [pytorch](https://pytorch.org/) and [scikit-learn](https://scikit-learn.org/stable/)\n",
    "* Web scraping, thanks to the [scrapy](https://scrapy.org/) framework\n",
    "* Plus web development (see [Django](https://www.djangoproject.com/), [Flask](https://flask.palletsprojects.com/en/3.0.x/)), and many others. \n",
    "\n",
    "But most of all,\n",
    "* Python is *fun*!!!"
   ]
  },
  {
   "cell_type": "markdown",
   "metadata": {},
   "source": [
    "# What are these web pages anyway?"
   ]
  },
  {
   "cell_type": "markdown",
   "metadata": {},
   "source": [
    "* This is actually a [Jupyter Notebook](https://jupyter.org/)\n",
    "* It's pretty cool:\n",
    "    * You can mix text, code and media\n",
    "    * You can modify and experiment with these pages as you wish\n",
    "    * You can add your own annotations and examples\n",
    "* This version runs entirely in your browser, without the need to install anything.\n",
    "    * When you are ready for that, you can install Notebooks on your computer (see [here](https://jupyter.org/install))\n",
    "    * In fact, they are included as standard in popular Python distributions, such as [Anaconda](https://www.anaconda.com/download)\n",
    "* Great for quick prototyping and sharing results\n",
    "* Very popular in the Machine Learning and Data Science communities\n",
    "* Not practical for larger chunks of code...\n",
    "    * ...but you can mix and match as you like by importing code from external files.\n",
    " \n",
    "In the video below, I'm going to give you a quick introduction to the Jupyter Notebook interface"
   ]
  },
  {
   "cell_type": "code",
   "execution_count": null,
   "metadata": {},
   "outputs": [],
   "source": []
  },
  {
   "cell_type": "code",
   "execution_count": 4,
   "metadata": {},
   "outputs": [
    {
     "data": {
      "application/vnd.jupyter.widget-view+json": {
       "model_id": "56940f8fa35d4b2db758b0f57f5c9c3e",
       "version_major": 2,
       "version_minor": 0
      },
      "text/plain": [
       "interactive(children=(IntSlider(value=600, continuous_update=False, description='resize', max=1100, min=300, r…"
      ]
     },
     "execution_count": 4,
     "metadata": {},
     "output_type": "execute_result"
    }
   ],
   "source": [
    "# run this cell to show a video, use slider to resize it, type Esc-o to hide it\n",
    "from IPython.display import YouTubeVideo; from ipywidgets import interactive, IntSlider\n",
    "def _play(resize): display(YouTubeVideo('KLwFNUxQmU0',width=resize, height=650*resize//1100, rel=0, loop=1))\n",
    "interactive(_play, resize=IntSlider(min=300, max=1100, step=50, value=600, continuous_update=False, readout=False))"
   ]
  },
  {
   "cell_type": "markdown",
   "metadata": {},
   "source": [
    "## That's all for now...\n",
    "\n",
    "Don't forget to subscribe to the channel and check back soon for how to do simple arithmetic, input/output and string operations in Python!"
   ]
  },
  {
   "cell_type": "markdown",
   "metadata": {},
   "source": [
    "**(C) 2014,2020 Fabrizio Smeraldi** ([f.smeraldi@qmul.ac.uk](mailto:f.smeraldi@qmul.ac.uk) - [web](http://www.eecs.qmul.ac.uk/~fabri/)), all rights reserved. In: \"Computer Programming\", School of Electronic Engineering and Computer Science, Queen Mary University of London."
   ]
  }
 ],
 "metadata": {
  "kernelspec": {
   "display_name": "Python 3 (ipykernel)",
   "language": "python",
   "name": "python3"
  },
  "language_info": {
   "codemirror_mode": {
    "name": "ipython",
    "version": 3
   },
   "file_extension": ".py",
   "mimetype": "text/x-python",
   "name": "python",
   "nbconvert_exporter": "python",
   "pygments_lexer": "ipython3",
   "version": "3.10.12"
  }
 },
 "nbformat": 4,
 "nbformat_minor": 4
}
